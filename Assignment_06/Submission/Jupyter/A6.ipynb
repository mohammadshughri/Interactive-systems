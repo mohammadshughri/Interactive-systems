{
 "cells": [
  {
   "cell_type": "code",
   "execution_count": 36,
   "metadata": {},
   "outputs": [],
   "source": [
    "import pandas as pd\n",
    "\n",
    "# Read the first log file\n",
    "log1 = pd.read_csv('log-1.txt', sep=';')\n",
    "\n",
    "# Read the second log file\n",
    "log2 = pd.read_csv('log-2.txt', sep=';')\n",
    "\n",
    "# Read the third log file\n",
    "log3 = pd.read_csv('log-3.txt', sep=';')"
   ]
  },
  {
   "cell_type": "code",
   "execution_count": 37,
   "metadata": {},
   "outputs": [],
   "source": [
    "# Concatenate the logs vertically\n",
    "combined_logs = pd.concat([log1, log2, log3])\n",
    "\n",
    "# Save the combined logs to a CSV file\n",
    "combined_logs.to_csv('combined_logs.csv', index=False)"
   ]
  },
  {
   "cell_type": "code",
   "execution_count": 38,
   "metadata": {},
   "outputs": [],
   "source": [
    "# Calculate selection times for each trial\n",
    "combined_logs['selection_time'] = combined_logs['time'] - combined_logs.groupby('block')['time'].shift(1)\n",
    "combined_logs.loc[combined_logs['block'] != combined_logs['block'].shift(1), 'selection_time'] = 0  # Reset selection time for the first trial in each block"
   ]
  },
  {
   "cell_type": "code",
   "execution_count": 39,
   "metadata": {},
   "outputs": [],
   "source": [
    "# Calculate average selection time for each block\n",
    "avg_selection_time = combined_logs.groupby('block')['selection_time'].mean()\n",
    "\n",
    "# Calculate error rate for each block\n",
    "error_rate = 1 - combined_logs.groupby('block')['correct'].mean()"
   ]
  },
  {
   "cell_type": "code",
   "execution_count": 40,
   "metadata": {},
   "outputs": [],
   "source": [
    "# Compute average selection time and error rate for both parameter sets\n",
    "avg_selection_time_param = avg_selection_time.mean()\n",
    "avg_error_rate = error_rate.mean()"
   ]
  },
  {
   "cell_type": "code",
   "execution_count": 41,
   "metadata": {},
   "outputs": [
    {
     "name": "stdout",
     "output_type": "stream",
     "text": [
      "Average Selection Time: 3268.0555555555557\n",
      "Average Error rate 0.0\n"
     ]
    }
   ],
   "source": [
    "# Print results\n",
    "print(\"Average Selection Time:\", avg_selection_time_param)\n",
    "print(\"Average Error rate\", avg_error_rate)"
   ]
  }
 ],
 "metadata": {
  "kernelspec": {
   "display_name": "base",
   "language": "python",
   "name": "python3"
  },
  "language_info": {
   "codemirror_mode": {
    "name": "ipython",
    "version": 3
   },
   "file_extension": ".py",
   "mimetype": "text/x-python",
   "name": "python",
   "nbconvert_exporter": "python",
   "pygments_lexer": "ipython3",
   "version": "3.11.7"
  }
 },
 "nbformat": 4,
 "nbformat_minor": 2
}
