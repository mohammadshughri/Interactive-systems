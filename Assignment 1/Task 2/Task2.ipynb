{
 "cells": [
  {
   "cell_type": "code",
   "execution_count": 1,
   "id": "375d4890",
   "metadata": {},
   "outputs": [
    {
     "name": "stdout",
     "output_type": "stream",
     "text": [
      "Requirement already satisfied: pandas in c:\\users\\moham\\.conda\\envs\\assignment1\\lib\\site-packages (2.2.1)\n",
      "Requirement already satisfied: numpy<2,>=1.22.4 in c:\\users\\moham\\.conda\\envs\\assignment1\\lib\\site-packages (from pandas) (1.26.4)\n",
      "Requirement already satisfied: python-dateutil>=2.8.2 in c:\\users\\moham\\.conda\\envs\\assignment1\\lib\\site-packages (from pandas) (2.8.2)\n",
      "Requirement already satisfied: pytz>=2020.1 in c:\\users\\moham\\.conda\\envs\\assignment1\\lib\\site-packages (from pandas) (2023.3.post1)\n",
      "Requirement already satisfied: tzdata>=2022.7 in c:\\users\\moham\\.conda\\envs\\assignment1\\lib\\site-packages (from pandas) (2024.1)\n",
      "Requirement already satisfied: six>=1.5 in c:\\users\\moham\\.conda\\envs\\assignment1\\lib\\site-packages (from python-dateutil>=2.8.2->pandas) (1.16.0)\n",
      "Note: you may need to restart the kernel to use updated packages.\n",
      "Requirement already satisfied: seaborn in c:\\users\\moham\\.conda\\envs\\assignment1\\lib\\site-packages (0.13.2)\n",
      "Requirement already satisfied: numpy!=1.24.0,>=1.20 in c:\\users\\moham\\.conda\\envs\\assignment1\\lib\\site-packages (from seaborn) (1.26.4)\n",
      "Requirement already satisfied: pandas>=1.2 in c:\\users\\moham\\.conda\\envs\\assignment1\\lib\\site-packages (from seaborn) (2.2.1)\n",
      "Requirement already satisfied: matplotlib!=3.6.1,>=3.4 in c:\\users\\moham\\.conda\\envs\\assignment1\\lib\\site-packages (from seaborn) (3.8.4)\n",
      "Requirement already satisfied: contourpy>=1.0.1 in c:\\users\\moham\\.conda\\envs\\assignment1\\lib\\site-packages (from matplotlib!=3.6.1,>=3.4->seaborn) (1.2.1)\n",
      "Requirement already satisfied: cycler>=0.10 in c:\\users\\moham\\.conda\\envs\\assignment1\\lib\\site-packages (from matplotlib!=3.6.1,>=3.4->seaborn) (0.12.1)\n",
      "Requirement already satisfied: fonttools>=4.22.0 in c:\\users\\moham\\.conda\\envs\\assignment1\\lib\\site-packages (from matplotlib!=3.6.1,>=3.4->seaborn) (4.51.0)\n",
      "Requirement already satisfied: kiwisolver>=1.3.1 in c:\\users\\moham\\.conda\\envs\\assignment1\\lib\\site-packages (from matplotlib!=3.6.1,>=3.4->seaborn) (1.4.5)\n",
      "Requirement already satisfied: packaging>=20.0 in c:\\users\\moham\\.conda\\envs\\assignment1\\lib\\site-packages (from matplotlib!=3.6.1,>=3.4->seaborn) (23.2)\n",
      "Requirement already satisfied: pillow>=8 in c:\\users\\moham\\.conda\\envs\\assignment1\\lib\\site-packages (from matplotlib!=3.6.1,>=3.4->seaborn) (10.3.0)\n",
      "Requirement already satisfied: pyparsing>=2.3.1 in c:\\users\\moham\\.conda\\envs\\assignment1\\lib\\site-packages (from matplotlib!=3.6.1,>=3.4->seaborn) (3.1.2)\n",
      "Requirement already satisfied: python-dateutil>=2.7 in c:\\users\\moham\\.conda\\envs\\assignment1\\lib\\site-packages (from matplotlib!=3.6.1,>=3.4->seaborn) (2.8.2)\n",
      "Requirement already satisfied: importlib-resources>=3.2.0 in c:\\users\\moham\\.conda\\envs\\assignment1\\lib\\site-packages (from matplotlib!=3.6.1,>=3.4->seaborn) (6.4.0)\n",
      "Requirement already satisfied: pytz>=2020.1 in c:\\users\\moham\\.conda\\envs\\assignment1\\lib\\site-packages (from pandas>=1.2->seaborn) (2023.3.post1)\n",
      "Requirement already satisfied: tzdata>=2022.7 in c:\\users\\moham\\.conda\\envs\\assignment1\\lib\\site-packages (from pandas>=1.2->seaborn) (2024.1)\n",
      "Requirement already satisfied: zipp>=3.1.0 in c:\\users\\moham\\.conda\\envs\\assignment1\\lib\\site-packages (from importlib-resources>=3.2.0->matplotlib!=3.6.1,>=3.4->seaborn) (3.17.0)\n",
      "Requirement already satisfied: six>=1.5 in c:\\users\\moham\\.conda\\envs\\assignment1\\lib\\site-packages (from python-dateutil>=2.7->matplotlib!=3.6.1,>=3.4->seaborn) (1.16.0)\n",
      "Note: you may need to restart the kernel to use updated packages.\n"
     ]
    }
   ],
   "source": [
    "%pip install pandas\n",
    "%pip install seaborn"
   ]
  },
  {
   "cell_type": "code",
   "execution_count": 5,
   "id": "f460ca79-9dc2-4600-ade3-040f658f69a5",
   "metadata": {},
   "outputs": [],
   "source": [
    "import pandas as pd\n",
    "\n",
    "# Read the CSV file into a DataFrame\n",
    "df = pd.read_csv(\"allResultsTask2.csv\")"
   ]
  },
  {
   "cell_type": "code",
   "execution_count": 20,
   "id": "3099af94-610d-422f-a520-6a73e6af9608",
   "metadata": {},
   "outputs": [
    {
     "name": "stdout",
     "output_type": "stream",
     "text": [
      "   time keys  matches  errors  participant  block exp  order handed  age  \\\n",
      "0   774    j        1       0       470711      1  VS      1      r   24   \n",
      "1   471    j        1       0       470711      1  VS      1      r   24   \n",
      "2   403    j        1       0       470711      1  VS      1      r   24   \n",
      "3   564    j        1       0       470711      1  VS      1      r   24   \n",
      "4   433    k        0       0       470711      1  VS      1      r   24   \n",
      "\n",
      "  gender  \n",
      "0      m  \n",
      "1      m  \n",
      "2      m  \n",
      "3      m  \n",
      "4      m  \n",
      "time            int64\n",
      "keys           object\n",
      "matches         int64\n",
      "errors          int64\n",
      "participant     int64\n",
      "block           int64\n",
      "exp            object\n",
      "order           int64\n",
      "handed         object\n",
      "age             int64\n",
      "gender         object\n",
      "dtype: object\n"
     ]
    }
   ],
   "source": [
    "# Display the first few rows of the DataFrame to understand its structure\n",
    "print(df.head())\n",
    "\n",
    "# Check the data types of each column\n",
    "print(df.dtypes)"
   ]
  },
  {
   "cell_type": "code",
   "execution_count": 16,
   "id": "a633692e",
   "metadata": {},
   "outputs": [
    {
     "name": "stdout",
     "output_type": "stream",
     "text": [
      "order  block\n",
      "1      1         472.9\n",
      "       2         545.7\n",
      "       3         518.7\n",
      "2      1         578.4\n",
      "       2         648.1\n",
      "       3        1006.9\n",
      "3      1         656.8\n",
      "       2         635.2\n",
      "       3         667.7\n",
      "4      1         872.1\n",
      "       2         672.9\n",
      "       3         996.7\n",
      "5      1        1790.5\n",
      "       2        1312.5\n",
      "       3        1181.0\n",
      "6      1        2682.1\n",
      "       2        2605.8\n",
      "       3        2285.6\n",
      "Name: time, dtype: float64\n"
     ]
    }
   ],
   "source": [
    "# find the average time per block based on the order field which consists of 1, 2, 3, 4, 5, 6\n",
    "average_time_per_block = df.groupby([\"order\",\"block\"])[\"time\"].mean()\n",
    "\n",
    "# Print the average time per block\n",
    "print(average_time_per_block)"
   ]
  },
  {
   "cell_type": "code",
   "execution_count": 17,
   "id": "08b3deba",
   "metadata": {},
   "outputs": [
    {
     "name": "stdout",
     "output_type": "stream",
     "text": [
      "order  block\n",
      "1      1         124.299325\n",
      "       2         129.184665\n",
      "       3          79.823486\n",
      "2      1         102.846380\n",
      "       2         142.519745\n",
      "       3        1229.637476\n",
      "3      1         117.112292\n",
      "       2         142.437355\n",
      "       3         112.570028\n",
      "4      1         174.821464\n",
      "       2          95.132014\n",
      "       3         229.533851\n",
      "5      1         478.370672\n",
      "       2         581.281773\n",
      "       3         347.779304\n",
      "6      1        1292.499254\n",
      "       2         716.977111\n",
      "       3        1134.000607\n",
      "Name: time, dtype: float64\n"
     ]
    }
   ],
   "source": [
    "# calculate the standard deviation\n",
    "std_dev_time_per_field_block = df.groupby([\"order\", \"block\"])[\"time\"].std()\n",
    "\n",
    "# Print the standard deviation\n",
    "print(std_dev_time_per_field_block)"
   ]
  },
  {
   "cell_type": "code",
   "execution_count": 21,
   "id": "4c97b7d9-2c03-4985-9107-ebb6cd6eb193",
   "metadata": {},
   "outputs": [
    {
     "name": "stdout",
     "output_type": "stream",
     "text": [
      "order\n",
      "1     512.433333\n",
      "2     744.466667\n",
      "3     653.233333\n",
      "4     847.233333\n",
      "5    1428.000000\n",
      "6    2524.500000\n",
      "Name: time, dtype: float64\n"
     ]
    }
   ],
   "source": [
    "# calculate the average time per block for all orders\n",
    "average_time_per_block = df.groupby('order')['time'].mean()\n",
    "print(average_time_per_block)"
   ]
  },
  {
   "cell_type": "code",
   "execution_count": 23,
   "id": "fe9c6914",
   "metadata": {},
   "outputs": [
    {
     "name": "stderr",
     "output_type": "stream",
     "text": [
      "C:\\Users\\moham\\AppData\\Local\\Temp\\ipykernel_27228\\3739636719.py:5: FutureWarning: \n",
      "\n",
      "The `ci` parameter is deprecated. Use `errorbar=('ci', 95)` for the same effect.\n",
      "\n",
      "  sns.barplot(x='order', y='time', data=df, ci=95)\n"
     ]
    },
    {
     "data": {
      "image/png": "[encoded data removed]",
      "text/plain": [
       "<Figure size 640x480 with 1 Axes>"
      ]
     },
     "metadata": {},
     "output_type": "display_data"
    }
   ],
   "source": [
    "# Visualize the data as a Seaborn barplot with a 95% confidence interval for the individual search variables.\n",
    "import seaborn as sns\n",
    "import matplotlib.pyplot as plt\n",
    "\n",
    "sns.barplot(x='order', y='time', data=df, ci=95)\n",
    "plt.show()"
   ]
  }
 ],
 "metadata": {
  "kernelspec": {
   "display_name": "Python 3 (ipykernel)",
   "language": "python",
   "name": "python3"
  },
  "language_info": {
   "codemirror_mode": {
    "name": "ipython",
    "version": 3
   },
   "file_extension": ".py",
   "mimetype": "text/x-python",
   "name": "python",
   "nbconvert_exporter": "python",
   "pygments_lexer": "ipython3",
   "version": "3.9.19"
  }
 },
 "nbformat": 4,
 "nbformat_minor": 5
}
